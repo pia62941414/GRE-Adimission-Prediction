{
  "nbformat": 4,
  "nbformat_minor": 0,
  "metadata": {
    "kernelspec": {
      "display_name": "Python 3",
      "language": "python",
      "name": "python3"
    },
    "language_info": {
      "codemirror_mode": {
        "name": "ipython",
        "version": 3
      },
      "file_extension": ".py",
      "mimetype": "text/x-python",
      "name": "python",
      "nbconvert_exporter": "python",
      "pygments_lexer": "ipython3",
      "version": "3.7.1"
    },
    "colab": {
      "name": "GRE Prediction.ipynb",
      "provenance": []
    }
  },
  "cells": [
    {
      "cell_type": "code",
      "metadata": {
        "id": "Exg8yOrjtJby"
      },
      "source": [
        "import pandas as pd\n",
        "import numpy as np\n",
        "import pickle\n",
        "import matplotlib.pyplot as plt\n",
        "%matplotlib inline"
      ],
      "execution_count": 1,
      "outputs": []
    },
    {
      "cell_type": "code",
      "metadata": {
        "id": "boVOSBPGtJb3"
      },
      "source": [
        "a=pd.read_csv(\"/content/Admission_Prediction (2).csv\")"
      ],
      "execution_count": 3,
      "outputs": []
    },
    {
      "cell_type": "code",
      "metadata": {
        "id": "IgV9D_3ptJb4",
        "outputId": "7bff6e21-71c3-4771-baaa-596fbca00bac"
      },
      "source": [
        "a.head()"
      ],
      "execution_count": null,
      "outputs": [
        {
          "output_type": "execute_result",
          "data": {
            "text/html": [
              "<div>\n",
              "<style scoped>\n",
              "    .dataframe tbody tr th:only-of-type {\n",
              "        vertical-align: middle;\n",
              "    }\n",
              "\n",
              "    .dataframe tbody tr th {\n",
              "        vertical-align: top;\n",
              "    }\n",
              "\n",
              "    .dataframe thead th {\n",
              "        text-align: right;\n",
              "    }\n",
              "</style>\n",
              "<table border=\"1\" class=\"dataframe\">\n",
              "  <thead>\n",
              "    <tr style=\"text-align: right;\">\n",
              "      <th></th>\n",
              "      <th>Serial No.</th>\n",
              "      <th>GRE Score</th>\n",
              "      <th>TOEFL Score</th>\n",
              "      <th>University Rating</th>\n",
              "      <th>SOP</th>\n",
              "      <th>LOR</th>\n",
              "      <th>CGPA</th>\n",
              "      <th>Research</th>\n",
              "      <th>Chance of Admit</th>\n",
              "    </tr>\n",
              "  </thead>\n",
              "  <tbody>\n",
              "    <tr>\n",
              "      <th>0</th>\n",
              "      <td>1</td>\n",
              "      <td>337.0</td>\n",
              "      <td>118.0</td>\n",
              "      <td>4.0</td>\n",
              "      <td>4.5</td>\n",
              "      <td>4.5</td>\n",
              "      <td>9.65</td>\n",
              "      <td>1</td>\n",
              "      <td>0.92</td>\n",
              "    </tr>\n",
              "    <tr>\n",
              "      <th>1</th>\n",
              "      <td>2</td>\n",
              "      <td>324.0</td>\n",
              "      <td>107.0</td>\n",
              "      <td>4.0</td>\n",
              "      <td>4.0</td>\n",
              "      <td>4.5</td>\n",
              "      <td>8.87</td>\n",
              "      <td>1</td>\n",
              "      <td>0.76</td>\n",
              "    </tr>\n",
              "    <tr>\n",
              "      <th>2</th>\n",
              "      <td>3</td>\n",
              "      <td>NaN</td>\n",
              "      <td>104.0</td>\n",
              "      <td>3.0</td>\n",
              "      <td>3.0</td>\n",
              "      <td>3.5</td>\n",
              "      <td>8.00</td>\n",
              "      <td>1</td>\n",
              "      <td>0.72</td>\n",
              "    </tr>\n",
              "    <tr>\n",
              "      <th>3</th>\n",
              "      <td>4</td>\n",
              "      <td>322.0</td>\n",
              "      <td>110.0</td>\n",
              "      <td>3.0</td>\n",
              "      <td>3.5</td>\n",
              "      <td>2.5</td>\n",
              "      <td>8.67</td>\n",
              "      <td>1</td>\n",
              "      <td>0.80</td>\n",
              "    </tr>\n",
              "    <tr>\n",
              "      <th>4</th>\n",
              "      <td>5</td>\n",
              "      <td>314.0</td>\n",
              "      <td>103.0</td>\n",
              "      <td>2.0</td>\n",
              "      <td>2.0</td>\n",
              "      <td>3.0</td>\n",
              "      <td>8.21</td>\n",
              "      <td>0</td>\n",
              "      <td>0.65</td>\n",
              "    </tr>\n",
              "  </tbody>\n",
              "</table>\n",
              "</div>"
            ],
            "text/plain": [
              "   Serial No.  GRE Score  TOEFL Score  University Rating  SOP  LOR  CGPA  \\\n",
              "0           1      337.0        118.0                4.0  4.5  4.5  9.65   \n",
              "1           2      324.0        107.0                4.0  4.0  4.5  8.87   \n",
              "2           3        NaN        104.0                3.0  3.0  3.5  8.00   \n",
              "3           4      322.0        110.0                3.0  3.5  2.5  8.67   \n",
              "4           5      314.0        103.0                2.0  2.0  3.0  8.21   \n",
              "\n",
              "   Research  Chance of Admit  \n",
              "0         1             0.92  \n",
              "1         1             0.76  \n",
              "2         1             0.72  \n",
              "3         1             0.80  \n",
              "4         0             0.65  "
            ]
          },
          "metadata": {
            "tags": []
          },
          "execution_count": 76
        }
      ]
    },
    {
      "cell_type": "code",
      "metadata": {
        "colab": {
          "base_uri": "https://localhost:8080/"
        },
        "id": "wNTw0zCbtJb6",
        "outputId": "30abcfe4-c74b-4072-a2b0-cb280394a852"
      },
      "source": [
        "a.shape"
      ],
      "execution_count": 4,
      "outputs": [
        {
          "output_type": "execute_result",
          "data": {
            "text/plain": [
              "(500, 9)"
            ]
          },
          "metadata": {
            "tags": []
          },
          "execution_count": 4
        }
      ]
    },
    {
      "cell_type": "code",
      "metadata": {
        "colab": {
          "base_uri": "https://localhost:8080/"
        },
        "id": "7LurR8VAtJb6",
        "outputId": "1dceefe0-9ff6-4a60-adc1-fcd9b0273155"
      },
      "source": [
        "a.info()"
      ],
      "execution_count": 5,
      "outputs": [
        {
          "output_type": "stream",
          "text": [
            "<class 'pandas.core.frame.DataFrame'>\n",
            "RangeIndex: 500 entries, 0 to 499\n",
            "Data columns (total 9 columns):\n",
            " #   Column             Non-Null Count  Dtype  \n",
            "---  ------             --------------  -----  \n",
            " 0   Serial No.         500 non-null    int64  \n",
            " 1   GRE Score          485 non-null    float64\n",
            " 2   TOEFL Score        490 non-null    float64\n",
            " 3   University Rating  485 non-null    float64\n",
            " 4   SOP                500 non-null    float64\n",
            " 5   LOR                500 non-null    float64\n",
            " 6   CGPA               500 non-null    float64\n",
            " 7   Research           500 non-null    int64  \n",
            " 8   Chance of Admit    500 non-null    float64\n",
            "dtypes: float64(7), int64(2)\n",
            "memory usage: 35.3 KB\n"
          ],
          "name": "stdout"
        }
      ]
    },
    {
      "cell_type": "code",
      "metadata": {
        "colab": {
          "base_uri": "https://localhost:8080/"
        },
        "id": "_1VkwrictJb7",
        "outputId": "25dda977-c035-4ff7-d2e8-eaf84655c394"
      },
      "source": [
        "a.isnull().sum()"
      ],
      "execution_count": 6,
      "outputs": [
        {
          "output_type": "execute_result",
          "data": {
            "text/plain": [
              "Serial No.            0\n",
              "GRE Score            15\n",
              "TOEFL Score          10\n",
              "University Rating    15\n",
              "SOP                   0\n",
              "LOR                   0\n",
              "CGPA                  0\n",
              "Research              0\n",
              "Chance of Admit       0\n",
              "dtype: int64"
            ]
          },
          "metadata": {
            "tags": []
          },
          "execution_count": 6
        }
      ]
    },
    {
      "cell_type": "code",
      "metadata": {
        "colab": {
          "base_uri": "https://localhost:8080/"
        },
        "id": "QSSc7OvbtJb8",
        "outputId": "3ea23bef-47c6-4863-8d9d-70c5bf1fb0fd"
      },
      "source": [
        "a[\"GRE Score\"].mode()"
      ],
      "execution_count": 7,
      "outputs": [
        {
          "output_type": "execute_result",
          "data": {
            "text/plain": [
              "0    312.0\n",
              "1    324.0\n",
              "dtype: float64"
            ]
          },
          "metadata": {
            "tags": []
          },
          "execution_count": 7
        }
      ]
    },
    {
      "cell_type": "code",
      "metadata": {
        "id": "MQ8VzrQftJb9"
      },
      "source": [
        "a[\"GRE Score\"].fillna(a[\"GRE Score\"].mode()[0],inplace=True)"
      ],
      "execution_count": 8,
      "outputs": []
    },
    {
      "cell_type": "code",
      "metadata": {
        "colab": {
          "base_uri": "https://localhost:8080/"
        },
        "id": "xPv24F_ftJb_",
        "outputId": "9543c232-800b-4597-9fb8-8dd07b0537d3"
      },
      "source": [
        "a[\"GRE Score\"].mode()"
      ],
      "execution_count": 9,
      "outputs": [
        {
          "output_type": "execute_result",
          "data": {
            "text/plain": [
              "0    312.0\n",
              "dtype: float64"
            ]
          },
          "metadata": {
            "tags": []
          },
          "execution_count": 9
        }
      ]
    },
    {
      "cell_type": "code",
      "metadata": {
        "colab": {
          "base_uri": "https://localhost:8080/"
        },
        "id": "1olzdVfNtJcA",
        "outputId": "edce870c-5dd7-4fed-aa3f-dd40e0aa24a7"
      },
      "source": [
        "a.isnull().sum()"
      ],
      "execution_count": 10,
      "outputs": [
        {
          "output_type": "execute_result",
          "data": {
            "text/plain": [
              "Serial No.            0\n",
              "GRE Score             0\n",
              "TOEFL Score          10\n",
              "University Rating    15\n",
              "SOP                   0\n",
              "LOR                   0\n",
              "CGPA                  0\n",
              "Research              0\n",
              "Chance of Admit       0\n",
              "dtype: int64"
            ]
          },
          "metadata": {
            "tags": []
          },
          "execution_count": 10
        }
      ]
    },
    {
      "cell_type": "code",
      "metadata": {
        "id": "GJIW5vvdtJcA"
      },
      "source": [
        "a[\"TOEFL Score\"].fillna(a[\"TOEFL Score\"].mode()[0],inplace=True)"
      ],
      "execution_count": 11,
      "outputs": []
    },
    {
      "cell_type": "code",
      "metadata": {
        "id": "Si7lB76KtJcB"
      },
      "source": [
        "a[\"University Rating\"].fillna(a[\"University Rating\"].mean(),inplace=True)"
      ],
      "execution_count": 12,
      "outputs": []
    },
    {
      "cell_type": "code",
      "metadata": {
        "colab": {
          "base_uri": "https://localhost:8080/",
          "height": 419
        },
        "id": "NpEfxQCNtJcB",
        "outputId": "ea564471-9014-47a1-bf81-8093fca8c2a6"
      },
      "source": [
        "a"
      ],
      "execution_count": 14,
      "outputs": [
        {
          "output_type": "execute_result",
          "data": {
            "text/html": [
              "<div>\n",
              "<style scoped>\n",
              "    .dataframe tbody tr th:only-of-type {\n",
              "        vertical-align: middle;\n",
              "    }\n",
              "\n",
              "    .dataframe tbody tr th {\n",
              "        vertical-align: top;\n",
              "    }\n",
              "\n",
              "    .dataframe thead th {\n",
              "        text-align: right;\n",
              "    }\n",
              "</style>\n",
              "<table border=\"1\" class=\"dataframe\">\n",
              "  <thead>\n",
              "    <tr style=\"text-align: right;\">\n",
              "      <th></th>\n",
              "      <th>Serial No.</th>\n",
              "      <th>GRE Score</th>\n",
              "      <th>TOEFL Score</th>\n",
              "      <th>University Rating</th>\n",
              "      <th>SOP</th>\n",
              "      <th>LOR</th>\n",
              "      <th>CGPA</th>\n",
              "      <th>Research</th>\n",
              "      <th>Chance of Admit</th>\n",
              "    </tr>\n",
              "  </thead>\n",
              "  <tbody>\n",
              "    <tr>\n",
              "      <th>0</th>\n",
              "      <td>1</td>\n",
              "      <td>337.0</td>\n",
              "      <td>118.0</td>\n",
              "      <td>4.0</td>\n",
              "      <td>4.5</td>\n",
              "      <td>4.5</td>\n",
              "      <td>9.65</td>\n",
              "      <td>1</td>\n",
              "      <td>0.92</td>\n",
              "    </tr>\n",
              "    <tr>\n",
              "      <th>1</th>\n",
              "      <td>2</td>\n",
              "      <td>324.0</td>\n",
              "      <td>107.0</td>\n",
              "      <td>4.0</td>\n",
              "      <td>4.0</td>\n",
              "      <td>4.5</td>\n",
              "      <td>8.87</td>\n",
              "      <td>1</td>\n",
              "      <td>0.76</td>\n",
              "    </tr>\n",
              "    <tr>\n",
              "      <th>2</th>\n",
              "      <td>3</td>\n",
              "      <td>312.0</td>\n",
              "      <td>104.0</td>\n",
              "      <td>3.0</td>\n",
              "      <td>3.0</td>\n",
              "      <td>3.5</td>\n",
              "      <td>8.00</td>\n",
              "      <td>1</td>\n",
              "      <td>0.72</td>\n",
              "    </tr>\n",
              "    <tr>\n",
              "      <th>3</th>\n",
              "      <td>4</td>\n",
              "      <td>322.0</td>\n",
              "      <td>110.0</td>\n",
              "      <td>3.0</td>\n",
              "      <td>3.5</td>\n",
              "      <td>2.5</td>\n",
              "      <td>8.67</td>\n",
              "      <td>1</td>\n",
              "      <td>0.80</td>\n",
              "    </tr>\n",
              "    <tr>\n",
              "      <th>4</th>\n",
              "      <td>5</td>\n",
              "      <td>314.0</td>\n",
              "      <td>103.0</td>\n",
              "      <td>2.0</td>\n",
              "      <td>2.0</td>\n",
              "      <td>3.0</td>\n",
              "      <td>8.21</td>\n",
              "      <td>0</td>\n",
              "      <td>0.65</td>\n",
              "    </tr>\n",
              "    <tr>\n",
              "      <th>...</th>\n",
              "      <td>...</td>\n",
              "      <td>...</td>\n",
              "      <td>...</td>\n",
              "      <td>...</td>\n",
              "      <td>...</td>\n",
              "      <td>...</td>\n",
              "      <td>...</td>\n",
              "      <td>...</td>\n",
              "      <td>...</td>\n",
              "    </tr>\n",
              "    <tr>\n",
              "      <th>495</th>\n",
              "      <td>496</td>\n",
              "      <td>332.0</td>\n",
              "      <td>108.0</td>\n",
              "      <td>5.0</td>\n",
              "      <td>4.5</td>\n",
              "      <td>4.0</td>\n",
              "      <td>9.02</td>\n",
              "      <td>1</td>\n",
              "      <td>0.87</td>\n",
              "    </tr>\n",
              "    <tr>\n",
              "      <th>496</th>\n",
              "      <td>497</td>\n",
              "      <td>337.0</td>\n",
              "      <td>117.0</td>\n",
              "      <td>5.0</td>\n",
              "      <td>5.0</td>\n",
              "      <td>5.0</td>\n",
              "      <td>9.87</td>\n",
              "      <td>1</td>\n",
              "      <td>0.96</td>\n",
              "    </tr>\n",
              "    <tr>\n",
              "      <th>497</th>\n",
              "      <td>498</td>\n",
              "      <td>330.0</td>\n",
              "      <td>120.0</td>\n",
              "      <td>5.0</td>\n",
              "      <td>4.5</td>\n",
              "      <td>5.0</td>\n",
              "      <td>9.56</td>\n",
              "      <td>1</td>\n",
              "      <td>0.93</td>\n",
              "    </tr>\n",
              "    <tr>\n",
              "      <th>498</th>\n",
              "      <td>499</td>\n",
              "      <td>312.0</td>\n",
              "      <td>103.0</td>\n",
              "      <td>4.0</td>\n",
              "      <td>4.0</td>\n",
              "      <td>5.0</td>\n",
              "      <td>8.43</td>\n",
              "      <td>0</td>\n",
              "      <td>0.73</td>\n",
              "    </tr>\n",
              "    <tr>\n",
              "      <th>499</th>\n",
              "      <td>500</td>\n",
              "      <td>327.0</td>\n",
              "      <td>113.0</td>\n",
              "      <td>4.0</td>\n",
              "      <td>4.5</td>\n",
              "      <td>4.5</td>\n",
              "      <td>9.04</td>\n",
              "      <td>0</td>\n",
              "      <td>0.84</td>\n",
              "    </tr>\n",
              "  </tbody>\n",
              "</table>\n",
              "<p>500 rows × 9 columns</p>\n",
              "</div>"
            ],
            "text/plain": [
              "     Serial No.  GRE Score  TOEFL Score  ...  CGPA  Research  Chance of Admit\n",
              "0             1      337.0        118.0  ...  9.65         1             0.92\n",
              "1             2      324.0        107.0  ...  8.87         1             0.76\n",
              "2             3      312.0        104.0  ...  8.00         1             0.72\n",
              "3             4      322.0        110.0  ...  8.67         1             0.80\n",
              "4             5      314.0        103.0  ...  8.21         0             0.65\n",
              "..          ...        ...          ...  ...   ...       ...              ...\n",
              "495         496      332.0        108.0  ...  9.02         1             0.87\n",
              "496         497      337.0        117.0  ...  9.87         1             0.96\n",
              "497         498      330.0        120.0  ...  9.56         1             0.93\n",
              "498         499      312.0        103.0  ...  8.43         0             0.73\n",
              "499         500      327.0        113.0  ...  9.04         0             0.84\n",
              "\n",
              "[500 rows x 9 columns]"
            ]
          },
          "metadata": {
            "tags": []
          },
          "execution_count": 14
        }
      ]
    },
    {
      "cell_type": "code",
      "metadata": {
        "colab": {
          "base_uri": "https://localhost:8080/"
        },
        "id": "T_kMCqbDtJcC",
        "outputId": "f98c1c9b-61ad-4dbf-c894-ea2b920f72ce"
      },
      "source": [
        "a.isnull().sum()"
      ],
      "execution_count": 15,
      "outputs": [
        {
          "output_type": "execute_result",
          "data": {
            "text/plain": [
              "Serial No.           0\n",
              "GRE Score            0\n",
              "TOEFL Score          0\n",
              "University Rating    0\n",
              "SOP                  0\n",
              "LOR                  0\n",
              "CGPA                 0\n",
              "Research             0\n",
              "Chance of Admit      0\n",
              "dtype: int64"
            ]
          },
          "metadata": {
            "tags": []
          },
          "execution_count": 15
        }
      ]
    },
    {
      "cell_type": "code",
      "metadata": {
        "id": "zgAMC0N1tJcD"
      },
      "source": [
        "x=a.drop([\"Chance of Admit\",\"Serial No.\"],axis=1)"
      ],
      "execution_count": 16,
      "outputs": []
    },
    {
      "cell_type": "code",
      "metadata": {
        "id": "8BhgVuV4tJcD"
      },
      "source": [
        "y=a[\"Chance of Admit\"]"
      ],
      "execution_count": 17,
      "outputs": []
    },
    {
      "cell_type": "code",
      "metadata": {
        "colab": {
          "base_uri": "https://localhost:8080/",
          "height": 419
        },
        "id": "0vdS98ZNtJcD",
        "outputId": "5df1e9af-3d2c-4761-8612-897ccbb6ed82"
      },
      "source": [
        "x"
      ],
      "execution_count": 18,
      "outputs": [
        {
          "output_type": "execute_result",
          "data": {
            "text/html": [
              "<div>\n",
              "<style scoped>\n",
              "    .dataframe tbody tr th:only-of-type {\n",
              "        vertical-align: middle;\n",
              "    }\n",
              "\n",
              "    .dataframe tbody tr th {\n",
              "        vertical-align: top;\n",
              "    }\n",
              "\n",
              "    .dataframe thead th {\n",
              "        text-align: right;\n",
              "    }\n",
              "</style>\n",
              "<table border=\"1\" class=\"dataframe\">\n",
              "  <thead>\n",
              "    <tr style=\"text-align: right;\">\n",
              "      <th></th>\n",
              "      <th>GRE Score</th>\n",
              "      <th>TOEFL Score</th>\n",
              "      <th>University Rating</th>\n",
              "      <th>SOP</th>\n",
              "      <th>LOR</th>\n",
              "      <th>CGPA</th>\n",
              "      <th>Research</th>\n",
              "    </tr>\n",
              "  </thead>\n",
              "  <tbody>\n",
              "    <tr>\n",
              "      <th>0</th>\n",
              "      <td>337.0</td>\n",
              "      <td>118.0</td>\n",
              "      <td>4.0</td>\n",
              "      <td>4.5</td>\n",
              "      <td>4.5</td>\n",
              "      <td>9.65</td>\n",
              "      <td>1</td>\n",
              "    </tr>\n",
              "    <tr>\n",
              "      <th>1</th>\n",
              "      <td>324.0</td>\n",
              "      <td>107.0</td>\n",
              "      <td>4.0</td>\n",
              "      <td>4.0</td>\n",
              "      <td>4.5</td>\n",
              "      <td>8.87</td>\n",
              "      <td>1</td>\n",
              "    </tr>\n",
              "    <tr>\n",
              "      <th>2</th>\n",
              "      <td>312.0</td>\n",
              "      <td>104.0</td>\n",
              "      <td>3.0</td>\n",
              "      <td>3.0</td>\n",
              "      <td>3.5</td>\n",
              "      <td>8.00</td>\n",
              "      <td>1</td>\n",
              "    </tr>\n",
              "    <tr>\n",
              "      <th>3</th>\n",
              "      <td>322.0</td>\n",
              "      <td>110.0</td>\n",
              "      <td>3.0</td>\n",
              "      <td>3.5</td>\n",
              "      <td>2.5</td>\n",
              "      <td>8.67</td>\n",
              "      <td>1</td>\n",
              "    </tr>\n",
              "    <tr>\n",
              "      <th>4</th>\n",
              "      <td>314.0</td>\n",
              "      <td>103.0</td>\n",
              "      <td>2.0</td>\n",
              "      <td>2.0</td>\n",
              "      <td>3.0</td>\n",
              "      <td>8.21</td>\n",
              "      <td>0</td>\n",
              "    </tr>\n",
              "    <tr>\n",
              "      <th>...</th>\n",
              "      <td>...</td>\n",
              "      <td>...</td>\n",
              "      <td>...</td>\n",
              "      <td>...</td>\n",
              "      <td>...</td>\n",
              "      <td>...</td>\n",
              "      <td>...</td>\n",
              "    </tr>\n",
              "    <tr>\n",
              "      <th>495</th>\n",
              "      <td>332.0</td>\n",
              "      <td>108.0</td>\n",
              "      <td>5.0</td>\n",
              "      <td>4.5</td>\n",
              "      <td>4.0</td>\n",
              "      <td>9.02</td>\n",
              "      <td>1</td>\n",
              "    </tr>\n",
              "    <tr>\n",
              "      <th>496</th>\n",
              "      <td>337.0</td>\n",
              "      <td>117.0</td>\n",
              "      <td>5.0</td>\n",
              "      <td>5.0</td>\n",
              "      <td>5.0</td>\n",
              "      <td>9.87</td>\n",
              "      <td>1</td>\n",
              "    </tr>\n",
              "    <tr>\n",
              "      <th>497</th>\n",
              "      <td>330.0</td>\n",
              "      <td>120.0</td>\n",
              "      <td>5.0</td>\n",
              "      <td>4.5</td>\n",
              "      <td>5.0</td>\n",
              "      <td>9.56</td>\n",
              "      <td>1</td>\n",
              "    </tr>\n",
              "    <tr>\n",
              "      <th>498</th>\n",
              "      <td>312.0</td>\n",
              "      <td>103.0</td>\n",
              "      <td>4.0</td>\n",
              "      <td>4.0</td>\n",
              "      <td>5.0</td>\n",
              "      <td>8.43</td>\n",
              "      <td>0</td>\n",
              "    </tr>\n",
              "    <tr>\n",
              "      <th>499</th>\n",
              "      <td>327.0</td>\n",
              "      <td>113.0</td>\n",
              "      <td>4.0</td>\n",
              "      <td>4.5</td>\n",
              "      <td>4.5</td>\n",
              "      <td>9.04</td>\n",
              "      <td>0</td>\n",
              "    </tr>\n",
              "  </tbody>\n",
              "</table>\n",
              "<p>500 rows × 7 columns</p>\n",
              "</div>"
            ],
            "text/plain": [
              "     GRE Score  TOEFL Score  University Rating  SOP  LOR  CGPA  Research\n",
              "0        337.0        118.0                4.0  4.5  4.5  9.65         1\n",
              "1        324.0        107.0                4.0  4.0  4.5  8.87         1\n",
              "2        312.0        104.0                3.0  3.0  3.5  8.00         1\n",
              "3        322.0        110.0                3.0  3.5  2.5  8.67         1\n",
              "4        314.0        103.0                2.0  2.0  3.0  8.21         0\n",
              "..         ...          ...                ...  ...  ...   ...       ...\n",
              "495      332.0        108.0                5.0  4.5  4.0  9.02         1\n",
              "496      337.0        117.0                5.0  5.0  5.0  9.87         1\n",
              "497      330.0        120.0                5.0  4.5  5.0  9.56         1\n",
              "498      312.0        103.0                4.0  4.0  5.0  8.43         0\n",
              "499      327.0        113.0                4.0  4.5  4.5  9.04         0\n",
              "\n",
              "[500 rows x 7 columns]"
            ]
          },
          "metadata": {
            "tags": []
          },
          "execution_count": 18
        }
      ]
    },
    {
      "cell_type": "code",
      "metadata": {
        "colab": {
          "base_uri": "https://localhost:8080/"
        },
        "id": "8x5meU6ZtJcE",
        "outputId": "5bc23aba-12ce-4c22-98b2-b08979cc6a9c"
      },
      "source": [
        "y.head()"
      ],
      "execution_count": 19,
      "outputs": [
        {
          "output_type": "execute_result",
          "data": {
            "text/plain": [
              "0    0.92\n",
              "1    0.76\n",
              "2    0.72\n",
              "3    0.80\n",
              "4    0.65\n",
              "Name: Chance of Admit, dtype: float64"
            ]
          },
          "metadata": {
            "tags": []
          },
          "execution_count": 19
        }
      ]
    },
    {
      "cell_type": "code",
      "metadata": {
        "colab": {
          "base_uri": "https://localhost:8080/",
          "height": 1000
        },
        "id": "GPCUcusCtJcF",
        "outputId": "5bfaa388-44bd-4090-b006-ae8a687163f4"
      },
      "source": [
        "for i in x.columns:\n",
        "    if(i != [\"Chance Of Admit\"]):\n",
        "        plt.scatter(x[i],y)\n",
        "        plt.xlabel(i)\n",
        "        plt.ylabel(\"ds\")\n",
        "        plt.show()"
      ],
      "execution_count": 20,
      "outputs": [
        {
          "output_type": "display_data",
          "data": {
            "image/png": "[encoded data removed]",
            "text/plain": [
              "<Figure size 432x288 with 1 Axes>"
            ]
          },
          "metadata": {
            "tags": [],
            "needs_background": "light"
          }
        },
        {
          "output_type": "display_data",
          "data": {
            "image/png": "[encoded data removed]",
            "text/plain": [
              "<Figure size 432x288 with 1 Axes>"
            ]
          },
          "metadata": {
            "tags": [],
            "needs_background": "light"
          }
        },
        {
          "output_type": "display_data",
          "data": {
            "image/png": "[encoded data removed]",
            "text/plain": [
              "<Figure size 432x288 with 1 Axes>"
            ]
          },
          "metadata": {
            "tags": [],
            "needs_background": "light"
          }
        },
        {
          "output_type": "display_data",
          "data": {
            "image/png": "[encoded data removed]",
            "text/plain": [
              "<Figure size 432x288 with 1 Axes>"
            ]
          },
          "metadata": {
            "tags": [],
            "needs_background": "light"
          }
        },
        {
          "output_type": "display_data",
          "data": {
            "image/png": "[encoded data removed]",
            "text/plain": [
              "<Figure size 432x288 with 1 Axes>"
            ]
          },
          "metadata": {
            "tags": [],
            "needs_background": "light"
          }
        },
        {
          "output_type": "display_data",
          "data": {
            "image/png": "[encoded data removed]",
            "text/plain": [
              "<Figure size 432x288 with 1 Axes>"
            ]
          },
          "metadata": {
            "tags": [],
            "needs_background": "light"
          }
        },
        {
          "output_type": "display_data",
          "data": {
            "image/png": "[encoded data removed]",
            "text/plain": [
              "<Figure size 432x288 with 1 Axes>"
            ]
          },
          "metadata": {
            "tags": [],
            "needs_background": "light"
          }
        }
      ]
    },
    {
      "cell_type": "code",
      "metadata": {
        "id": "kfuY3meRtJcF"
      },
      "source": [
        "from sklearn.preprocessing import StandardScaler"
      ],
      "execution_count": 21,
      "outputs": []
    },
    {
      "cell_type": "code",
      "metadata": {
        "id": "x-QP5BMbtJcG"
      },
      "source": [
        "scaler_feature=StandardScaler()"
      ],
      "execution_count": 22,
      "outputs": []
    },
    {
      "cell_type": "code",
      "metadata": {
        "id": "UMPsC3kGtJcG"
      },
      "source": [
        "scaler_label=StandardScaler()"
      ],
      "execution_count": 23,
      "outputs": []
    },
    {
      "cell_type": "code",
      "metadata": {
        "id": "FmgTmUq-tJcG"
      },
      "source": [
        "scaled_data=scaler_feature.fit_transform(x)"
      ],
      "execution_count": 24,
      "outputs": []
    },
    {
      "cell_type": "code",
      "metadata": {
        "colab": {
          "base_uri": "https://localhost:8080/"
        },
        "id": "VGIWEscXtJcH",
        "outputId": "b9f7a16c-30aa-44c0-db6f-927d1407f3f7"
      },
      "source": [
        "scaled_data"
      ],
      "execution_count": 25,
      "outputs": [
        {
          "output_type": "execute_result",
          "data": {
            "text/plain": [
              "array([[ 1.85052822,  1.77547686,  0.77890565, ...,  1.09894429,\n",
              "         1.77680627,  0.88640526],\n",
              "       [ 0.68147064, -0.04027672,  0.77890565, ...,  1.09894429,\n",
              "         0.48585943,  0.88640526],\n",
              "       [-0.39765943, -0.53548224, -0.1078766 , ...,  0.01730621,\n",
              "        -0.95404281,  0.88640526],\n",
              "       ...,\n",
              "       [ 1.22103568,  2.10561387,  1.66568791, ...,  1.63976333,\n",
              "         1.62785086,  0.88640526],\n",
              "       [-0.39765943, -0.70055074,  0.77890565, ...,  1.63976333,\n",
              "        -0.24236699, -1.12815215],\n",
              "       [ 0.95125316,  0.95013432,  0.77890565, ...,  1.09894429,\n",
              "         0.76721964, -1.12815215]])"
            ]
          },
          "metadata": {
            "tags": []
          },
          "execution_count": 25
        }
      ]
    },
    {
      "cell_type": "code",
      "metadata": {
        "id": "tMPWfjRftJcH"
      },
      "source": [
        "from sklearn.model_selection import train_test_split"
      ],
      "execution_count": 26,
      "outputs": []
    },
    {
      "cell_type": "code",
      "metadata": {
        "id": "119pii41tJcH"
      },
      "source": [
        "train_x,test_x,train_y,test_y=train_test_split(x,y,test_size=0.33,random_state=100)"
      ],
      "execution_count": 27,
      "outputs": []
    },
    {
      "cell_type": "code",
      "metadata": {
        "id": "QbuZHdsVtJcI"
      },
      "source": [
        "#fitting the data into linear regression\n",
        "from sklearn.linear_model import LinearRegression"
      ],
      "execution_count": 28,
      "outputs": []
    },
    {
      "cell_type": "code",
      "metadata": {
        "id": "awhwmLXhtJcI"
      },
      "source": [
        "reg=LinearRegression()"
      ],
      "execution_count": 29,
      "outputs": []
    },
    {
      "cell_type": "code",
      "metadata": {
        "colab": {
          "base_uri": "https://localhost:8080/"
        },
        "id": "zzbnY7vZtJcI",
        "outputId": "78316bf4-79da-400d-be19-ab15d74cb0d8"
      },
      "source": [
        "reg.fit(train_x,train_y)"
      ],
      "execution_count": 30,
      "outputs": [
        {
          "output_type": "execute_result",
          "data": {
            "text/plain": [
              "LinearRegression(copy_X=True, fit_intercept=True, n_jobs=None, normalize=False)"
            ]
          },
          "metadata": {
            "tags": []
          },
          "execution_count": 30
        }
      ]
    },
    {
      "cell_type": "code",
      "metadata": {
        "id": "SdcohbT3tJcJ"
      },
      "source": [
        "from sklearn.metrics import r2_score"
      ],
      "execution_count": 31,
      "outputs": []
    },
    {
      "cell_type": "code",
      "metadata": {
        "id": "UWv87-pRtJcK"
      },
      "source": [
        "score=r2_score(reg.predict(test_x),test_y)"
      ],
      "execution_count": 32,
      "outputs": []
    },
    {
      "cell_type": "code",
      "metadata": {
        "colab": {
          "base_uri": "https://localhost:8080/"
        },
        "id": "GQqYhTpAtJcK",
        "outputId": "e88c709b-fa82-4c4a-b268-ce54c51ff535"
      },
      "source": [
        "score"
      ],
      "execution_count": 33,
      "outputs": [
        {
          "output_type": "execute_result",
          "data": {
            "text/plain": [
              "0.8076993525686703"
            ]
          },
          "metadata": {
            "tags": []
          },
          "execution_count": 33
        }
      ]
    },
    {
      "cell_type": "code",
      "metadata": {
        "colab": {
          "base_uri": "https://localhost:8080/"
        },
        "id": "CniR9XhJtJcL",
        "outputId": "825ad960-850b-4ad9-dac2-b22a22f97d22"
      },
      "source": [
        "reg.predict(test_x)"
      ],
      "execution_count": 34,
      "outputs": [
        {
          "output_type": "execute_result",
          "data": {
            "text/plain": [
              "array([0.85868396, 0.47100161, 0.6280096 , 0.44578053, 0.64598598,\n",
              "       0.85398867, 0.58423805, 0.6708053 , 0.81576593, 0.68391898,\n",
              "       0.66322789, 0.60710496, 0.89390747, 0.76122405, 0.63653857,\n",
              "       0.50101692, 0.5932031 , 0.74550918, 0.56026094, 0.71477719,\n",
              "       0.89825968, 0.60985982, 0.85096431, 0.82326697, 0.99808338,\n",
              "       0.60354515, 0.68321824, 0.93662411, 0.87713203, 0.70043558,\n",
              "       0.78420399, 0.85380635, 0.7502154 , 0.55268936, 0.73961435,\n",
              "       0.78262859, 0.79567973, 0.57756558, 0.54007331, 0.70184561,\n",
              "       0.94815906, 0.58454502, 0.83942492, 0.78608391, 0.8110905 ,\n",
              "       0.54729563, 0.59557674, 0.87410501, 0.95154098, 0.59880994,\n",
              "       0.81659257, 0.70920574, 0.80814867, 0.99084397, 0.64359316,\n",
              "       0.85476613, 0.6179743 , 0.89711609, 0.76941624, 0.73447114,\n",
              "       0.68813814, 0.62390397, 0.47604256, 0.8832669 , 0.64759615,\n",
              "       0.68476495, 0.70437717, 0.45943371, 0.84033595, 0.84308359,\n",
              "       0.92763891, 0.77439541, 0.65730255, 0.83786836, 0.64625876,\n",
              "       0.77453732, 0.53242801, 0.74388083, 0.93393122, 0.95051024,\n",
              "       0.6076588 , 0.66069962, 0.9120666 , 0.65170389, 0.85504477,\n",
              "       0.79702574, 0.64301418, 0.58803932, 0.6739946 , 0.6055102 ,\n",
              "       0.62856622, 0.57882704, 0.64018331, 0.95161974, 0.91609799,\n",
              "       0.75624036, 0.84744486, 0.75917561, 0.52393258, 0.83158801,\n",
              "       0.51381588, 0.56120046, 0.93610183, 0.53572109, 0.57088196,\n",
              "       0.76657144, 0.62003759, 0.73442563, 0.57361956, 0.61063832,\n",
              "       0.4949801 , 0.87007959, 0.78100791, 0.84381294, 0.61089614,\n",
              "       0.55650595, 0.69708561, 0.55521471, 0.50835004, 0.65207033,\n",
              "       0.89667871, 0.67423735, 0.49389091, 0.64502102, 0.72210667,\n",
              "       0.6655592 , 0.70215919, 0.52534441, 0.6479463 , 0.80281401,\n",
              "       0.41300686, 0.7801169 , 0.64669684, 0.62480187, 0.57677116,\n",
              "       0.93193595, 0.71430017, 0.92192073, 0.70358205, 0.62714882,\n",
              "       0.69250325, 0.49994324, 0.4668804 , 0.67447614, 0.61263647,\n",
              "       0.684876  , 0.87514699, 0.47296742, 0.77290997, 0.83656497,\n",
              "       0.73687227, 0.92479031, 0.7431661 , 0.63625991, 0.84418791,\n",
              "       0.91135095, 0.82470089, 0.55135928, 0.57060717, 0.74389877,\n",
              "       0.87035492, 0.70132621, 0.67220172, 0.53462551, 0.73948354])"
            ]
          },
          "metadata": {
            "tags": []
          },
          "execution_count": 34
        }
      ]
    },
    {
      "cell_type": "code",
      "metadata": {
        "id": "DtUPpeKVtJcL"
      },
      "source": [
        "import pickle"
      ],
      "execution_count": 35,
      "outputs": []
    },
    {
      "cell_type": "code",
      "metadata": {
        "id": "ux9awGEftJcL"
      },
      "source": [
        "filename=\"first_model.pickle\"\n",
        "pickle.dump(reg,open(filename,\"wb\"))"
      ],
      "execution_count": 36,
      "outputs": []
    },
    {
      "cell_type": "code",
      "metadata": {
        "id": "8Byrk_eqtJcM"
      },
      "source": [
        "load_model=pickle.load(open(filename,\"rb\"))"
      ],
      "execution_count": 37,
      "outputs": []
    },
    {
      "cell_type": "markdown",
      "metadata": {
        "id": "0NFFJw_7tJcM"
      },
      "source": [
        " "
      ]
    },
    {
      "cell_type": "code",
      "metadata": {
        "id": "TkBsbOxptJcM"
      },
      "source": [
        "a=load_model.predict([[300,110,5,5,5,10,1]])"
      ],
      "execution_count": 38,
      "outputs": []
    },
    {
      "cell_type": "code",
      "metadata": {
        "colab": {
          "base_uri": "https://localhost:8080/"
        },
        "id": "mgqZPYc-tJcN",
        "outputId": "d6c657b5-0254-4ff0-99ef-cb76fa45f0eb"
      },
      "source": [
        "a"
      ],
      "execution_count": 39,
      "outputs": [
        {
          "output_type": "execute_result",
          "data": {
            "text/plain": [
              "array([0.93409108])"
            ]
          },
          "metadata": {
            "tags": []
          },
          "execution_count": 39
        }
      ]
    },
    {
      "cell_type": "code",
      "metadata": {
        "colab": {
          "base_uri": "https://localhost:8080/"
        },
        "id": "y8n_SXpatJcN",
        "outputId": "ba88fb51-a998-45c1-e916-cb9a7756b998"
      },
      "source": [
        "reg.predict([[330,110,5,4,5,10,0]])"
      ],
      "execution_count": 40,
      "outputs": [
        {
          "output_type": "execute_result",
          "data": {
            "text/plain": [
              "array([0.94890342])"
            ]
          },
          "metadata": {
            "tags": []
          },
          "execution_count": 40
        }
      ]
    },
    {
      "cell_type": "code",
      "metadata": {
        "id": "l082pR1-tJcO"
      },
      "source": [
        "from sklearn.linear_model import Ridge"
      ],
      "execution_count": 41,
      "outputs": []
    },
    {
      "cell_type": "code",
      "metadata": {
        "id": "80IONl3jtJcO"
      },
      "source": [
        "rd=Ridge()"
      ],
      "execution_count": 42,
      "outputs": []
    },
    {
      "cell_type": "code",
      "metadata": {
        "id": "zftv5gb3tJcO"
      },
      "source": [
        "from sklearn.model_selection import GridSearchCV"
      ],
      "execution_count": 43,
      "outputs": []
    },
    {
      "cell_type": "code",
      "metadata": {
        "id": "jb5VGJdetJcP"
      },
      "source": [
        "parameters={\"alpha\":[1e-3,3,4,6,7,8,6,100,200]}"
      ],
      "execution_count": 44,
      "outputs": []
    },
    {
      "cell_type": "code",
      "metadata": {
        "id": "Yll0pYEFtJcP"
      },
      "source": [
        "a=GridSearchCV(rd,parameters,scoring=\"neg_mean_squared_error\",cv=5)"
      ],
      "execution_count": 45,
      "outputs": []
    },
    {
      "cell_type": "code",
      "metadata": {
        "colab": {
          "base_uri": "https://localhost:8080/"
        },
        "id": "GNz7jyhwtJcP",
        "outputId": "6a02da21-ce36-462c-ed95-e59e40c1f544"
      },
      "source": [
        "a"
      ],
      "execution_count": 46,
      "outputs": [
        {
          "output_type": "execute_result",
          "data": {
            "text/plain": [
              "GridSearchCV(cv=5, error_score=nan,\n",
              "             estimator=Ridge(alpha=1.0, copy_X=True, fit_intercept=True,\n",
              "                             max_iter=None, normalize=False, random_state=None,\n",
              "                             solver='auto', tol=0.001),\n",
              "             iid='deprecated', n_jobs=None,\n",
              "             param_grid={'alpha': [0.001, 3, 4, 6, 7, 8, 6, 100, 200]},\n",
              "             pre_dispatch='2*n_jobs', refit=True, return_train_score=False,\n",
              "             scoring='neg_mean_squared_error', verbose=0)"
            ]
          },
          "metadata": {
            "tags": []
          },
          "execution_count": 46
        }
      ]
    },
    {
      "cell_type": "code",
      "metadata": {
        "colab": {
          "base_uri": "https://localhost:8080/"
        },
        "id": "BfosPnNAtJcQ",
        "outputId": "bff8b463-0090-4366-a3fc-2d8be1e9c14a"
      },
      "source": [
        "a.fit(train_x,train_y)"
      ],
      "execution_count": 47,
      "outputs": [
        {
          "output_type": "execute_result",
          "data": {
            "text/plain": [
              "GridSearchCV(cv=5, error_score=nan,\n",
              "             estimator=Ridge(alpha=1.0, copy_X=True, fit_intercept=True,\n",
              "                             max_iter=None, normalize=False, random_state=None,\n",
              "                             solver='auto', tol=0.001),\n",
              "             iid='deprecated', n_jobs=None,\n",
              "             param_grid={'alpha': [0.001, 3, 4, 6, 7, 8, 6, 100, 200]},\n",
              "             pre_dispatch='2*n_jobs', refit=True, return_train_score=False,\n",
              "             scoring='neg_mean_squared_error', verbose=0)"
            ]
          },
          "metadata": {
            "tags": []
          },
          "execution_count": 47
        }
      ]
    },
    {
      "cell_type": "code",
      "metadata": {
        "colab": {
          "base_uri": "https://localhost:8080/"
        },
        "id": "lcF5co4MtJcQ",
        "outputId": "756d363a-181c-4049-8218-c9a845b014ba"
      },
      "source": [
        "a.predict(test_x)"
      ],
      "execution_count": 48,
      "outputs": [
        {
          "output_type": "execute_result",
          "data": {
            "text/plain": [
              "array([0.85868418, 0.47100492, 0.62801084, 0.44578137, 0.64599019,\n",
              "       0.85398939, 0.58424036, 0.67080637, 0.81576459, 0.68391444,\n",
              "       0.66322804, 0.60710554, 0.89390641, 0.7612242 , 0.63653871,\n",
              "       0.50101965, 0.59320424, 0.7455075 , 0.56026225, 0.71477853,\n",
              "       0.89825893, 0.60986208, 0.85096595, 0.82326676, 0.99808171,\n",
              "       0.60354603, 0.68321955, 0.93662292, 0.87713205, 0.70043823,\n",
              "       0.78420378, 0.85380573, 0.75021386, 0.55269268, 0.73961431,\n",
              "       0.78262923, 0.79567836, 0.57756655, 0.54007291, 0.70184811,\n",
              "       0.94815932, 0.58454791, 0.83942528, 0.7860826 , 0.81109007,\n",
              "       0.54729422, 0.59557879, 0.87410803, 0.9515395 , 0.59881132,\n",
              "       0.81659318, 0.70920733, 0.80814661, 0.99084291, 0.64359491,\n",
              "       0.85476554, 0.61797466, 0.89711733, 0.76941571, 0.73446974,\n",
              "       0.68813817, 0.62390402, 0.47604562, 0.88326652, 0.64759619,\n",
              "       0.68476518, 0.70437552, 0.4594349 , 0.84033705, 0.8430831 ,\n",
              "       0.92763845, 0.77439664, 0.65730029, 0.83787031, 0.64626225,\n",
              "       0.77453776, 0.53242675, 0.74387956, 0.93392777, 0.95050623,\n",
              "       0.60766055, 0.66069961, 0.91206519, 0.65170605, 0.85504338,\n",
              "       0.797026  , 0.64301334, 0.58804122, 0.67399577, 0.60550855,\n",
              "       0.62856743, 0.5788273 , 0.64018386, 0.95161992, 0.91609853,\n",
              "       0.75624081, 0.84744531, 0.7591756 , 0.52393744, 0.83158736,\n",
              "       0.51381644, 0.56120243, 0.93610226, 0.53572213, 0.57088646,\n",
              "       0.76657227, 0.62003692, 0.73442558, 0.57362021, 0.61063892,\n",
              "       0.49498232, 0.87007821, 0.78100579, 0.8438123 , 0.61089708,\n",
              "       0.5565048 , 0.69708427, 0.55521325, 0.5083508 , 0.6520692 ,\n",
              "       0.89667864, 0.67423704, 0.49389087, 0.64502028, 0.7221074 ,\n",
              "       0.6655596 , 0.70215838, 0.52534581, 0.64794469, 0.80281279,\n",
              "       0.41300811, 0.78011896, 0.64669685, 0.62480398, 0.57677175,\n",
              "       0.93193536, 0.71430024, 0.92192191, 0.70358064, 0.62715187,\n",
              "       0.69250584, 0.49994383, 0.46687902, 0.67447599, 0.61263855,\n",
              "       0.68487605, 0.87514884, 0.47296722, 0.77291141, 0.83656433,\n",
              "       0.73687261, 0.92479108, 0.74316495, 0.6362563 , 0.8441855 ,\n",
              "       0.91135046, 0.82469943, 0.55136011, 0.57060966, 0.74389992,\n",
              "       0.8703543 , 0.70132857, 0.672203  , 0.53462483, 0.73948235])"
            ]
          },
          "metadata": {
            "tags": []
          },
          "execution_count": 48
        }
      ]
    }
  ]
}